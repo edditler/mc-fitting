{
 "cells": [
  {
   "cell_type": "code",
   "execution_count": null,
   "metadata": {},
   "outputs": [],
   "source": [
    "from aiida import load_dbenv, is_dbenv_loaded\n",
    "from aiida.backends import settings\n",
    "if not is_dbenv_loaded():\n",
    "    load_dbenv(profile=settings.AIIDADB_PROFILE)\n",
    "\n",
    "from aiida.orm.querybuilder import QueryBuilder\n",
    "from aiida.orm.data.structure import StructureData\n",
    "from aiida.orm.data.base import Int\n",
    "from aiida.work.workfunction import workfunction\n",
    "\n",
    "from ase.data import covalent_radii\n",
    "from ase.neighborlist import NeighborList\n",
    "import ase.neighborlist\n",
    "import ase.build\n",
    "\n",
    "from IPython.display import display, clear_output\n",
    "import ipywidgets as ipw\n",
    "import numpy as np\n",
    "from numpy.linalg import norm\n",
    "import scipy.stats\n",
    "import nglview\n",
    "from copy import deepcopy\n",
    "\n",
    "from apps.surfaces.structure_browser import StructureBrowser\n",
    "from apps.mcfitting.geooptwork import FTGeoOptWorkChain"
   ]
  },
  {
   "cell_type": "markdown",
   "metadata": {},
   "source": [
    "# Molecule Transformations"
   ]
  },
  {
   "cell_type": "code",
   "execution_count": null,
   "metadata": {},
   "outputs": [],
   "source": [
    "def on_struct_change(c):\n",
    "    global orig_structure\n",
    "    orig_structure = None # disable event processing\n",
    "    s = struct_browser.results.value\n",
    "    if s:\n",
    "        orig_structure = s\n",
    "\n",
    "    update_view()\n",
    "    \n",
    "def update_view():\n",
    "    with info_out:\n",
    "        clear_output()\n",
    "        atoms = orig_structure.get_ase()\n",
    "        \n",
    "        # remove old components\n",
    "        if hasattr(viewer, \"component_0\"):\n",
    "            viewer.component_0.remove_ball_and_stick()\n",
    "            viewer.component_0.remove_unitcell()\n",
    "            cid = viewer.component_0.id\n",
    "            viewer.remove_component(cid)\n",
    "\n",
    "        if orig_structure:\n",
    "            # add new component\n",
    "            viewer.add_component(nglview.ASEStructure(atoms)) # adds ball+stick\n",
    "            viewer.add_unitcell()\n",
    "            viewer.center()"
   ]
  },
  {
   "cell_type": "markdown",
   "metadata": {},
   "source": [
    "## Step 1: Select structure"
   ]
  },
  {
   "cell_type": "code",
   "execution_count": null,
   "metadata": {},
   "outputs": [],
   "source": [
    "struct_browser = StructureBrowser()\n",
    "struct_browser.results.observe(on_struct_change, names='value')\n",
    "display(struct_browser)"
   ]
  },
  {
   "cell_type": "code",
   "execution_count": null,
   "metadata": {},
   "outputs": [],
   "source": [
    "viewer = nglview.NGLWidget()\n",
    "info_out = ipw.Output()\n",
    "display(viewer, info_out)"
   ]
  },
  {
   "cell_type": "code",
   "execution_count": null,
   "metadata": {},
   "outputs": [],
   "source": [
    "def dancing_molecule(atoms, phi, y, z):\n",
    "    slab = atoms[-1568:]\n",
    "    mol = atoms[:-1568]\n",
    "    mol.euler_rotate(phi=phi,theta=0,psi=0,center='COP')\n",
    "    mol.translate((0, y, z))\n",
    "    atoms = mol+slab\n",
    "    return atoms\n"
   ]
  },
  {
   "cell_type": "code",
   "execution_count": null,
   "metadata": {},
   "outputs": [],
   "source": [
    "def molecule_circus():\n",
    "    atoms = struct_browser.results.value.get_ase()\n",
    "    \n",
    "    y_tot = np.sqrt(1.5)*4.206\n",
    "    phis = [0, 10, 20]\n",
    "    y_trans = [0, y_tot/4., y_tot/2., 3*y_tot/4.]\n",
    "    z_trans = [-0.5, 0., 1., 3., 6.]\n",
    "    \n",
    "    all_the_structures = dict()\n",
    "    for z in z_trans:\n",
    "        for y in y_trans:\n",
    "            for phi in phis:\n",
    "                tmp_atoms = deepcopy(atoms)\n",
    "                new_atoms = dancing_molecule(tmp_atoms, phi, y, z)\n",
    "                all_the_structures['Phi{} Y{} Z{}'.format(phi, round(y), z)] = new_atoms\n",
    "    \n",
    "    return all_the_structures"
   ]
  },
  {
   "cell_type": "markdown",
   "metadata": {},
   "source": [
    "## Step 2: Transform and store (this will take long)"
   ]
  },
  {
   "cell_type": "code",
   "execution_count": null,
   "metadata": {},
   "outputs": [],
   "source": [
    "def on_click_store(b):\n",
    "    # This will take a very long time!\n",
    "    all_the_structures = molecule_circus()\n",
    "    i = 0\n",
    "    # mol_name = struct_browser.results.value.description.split(' ')[0]\n",
    "    mol_name = text_molname.value\n",
    "    for n, atoms in all_the_structures.items():\n",
    "        s = StructureData(ase=atoms)\n",
    "        s.label = 'molecular circus'\n",
    "        s.description = '{} ~ {}'.format(mol_name, n)\n",
    "        i += 1\n",
    "        print i\n",
    "        s.store()\n",
    "        print(\"Stored in AiiDA: \"+repr(s))\n",
    "\n",
    "text_molname = ipw.Text(description='Molecule name',\n",
    "                        placeholder='ftX-abc')\n",
    "btn_store = ipw.Button(description='Store in AiiDA')\n",
    "btn_store.on_click(on_click_store)\n",
    "display(ipw.VBox([text_molname, btn_store]))"
   ]
  }
 ],
 "metadata": {
  "kernelspec": {
   "display_name": "Python 2",
   "language": "python",
   "name": "python2"
  },
  "language_info": {
   "codemirror_mode": {
    "name": "ipython",
    "version": 2
   },
   "file_extension": ".py",
   "mimetype": "text/x-python",
   "name": "python",
   "nbconvert_exporter": "python",
   "pygments_lexer": "ipython2",
   "version": "2.7.13"
  }
 },
 "nbformat": 4,
 "nbformat_minor": 2
}

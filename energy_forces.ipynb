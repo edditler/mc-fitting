{
 "cells": [
  {
   "cell_type": "code",
   "execution_count": null,
   "metadata": {},
   "outputs": [],
   "source": [
    "from aiida import load_dbenv, is_dbenv_loaded\n",
    "from aiida.backends import settings\n",
    "if not is_dbenv_loaded():\n",
    "    load_dbenv(profile=settings.AIIDADB_PROFILE)\n",
    "\n",
    "from aiida.orm import Code, Computer, load_node\n",
    "from aiida.orm.querybuilder import QueryBuilder\n",
    "from aiida.orm.data.structure import StructureData\n",
    "from aiida.orm.data.base import Int, Str, Bool\n",
    "from aiida.work.workfunction import workfunction\n",
    "from aiida.work.run import submit\n",
    "\n",
    "from ase.data import covalent_radii\n",
    "from ase.neighborlist import NeighborList\n",
    "import ase.neighborlist\n",
    "import ase.build\n",
    "\n",
    "from IPython.display import display, clear_output\n",
    "import ipywidgets as ipw\n",
    "import numpy as np\n",
    "from numpy.linalg import norm\n",
    "import scipy.stats\n",
    "import nglview\n",
    "from collections import OrderedDict\n",
    "\n",
    "from apps.surfaces.structure_browser import StructureBrowser\n",
    "from apps.mcfitting.enework import EnergyWorkChain"
   ]
  },
  {
   "cell_type": "markdown",
   "metadata": {},
   "source": [
    "# Energy Forces simulation"
   ]
  },
  {
   "cell_type": "code",
   "execution_count": null,
   "metadata": {},
   "outputs": [],
   "source": [
    "def on_struct_change(c):\n",
    "    global orig_structure\n",
    "    orig_structure = None # disable event processing\n",
    "    s = struct_browser.results.value\n",
    "    if s:\n",
    "        orig_structure = s\n",
    "    update_view()\n",
    "    \n",
    "def update_view():\n",
    "    with info_out:\n",
    "        clear_output()\n",
    "\n",
    "        # remove old components\n",
    "        if hasattr(viewer, \"component_0\"):\n",
    "            viewer.component_0.remove_ball_and_stick()\n",
    "            viewer.component_0.remove_unitcell()\n",
    "            cid = viewer.component_0.id\n",
    "            viewer.remove_component(cid)\n",
    "\n",
    "        if orig_structure:\n",
    "            atoms = orig_structure.get_ase()\n",
    "\n",
    "            # add new component\n",
    "            viewer.add_component(nglview.ASEStructure(atoms)) # adds ball+stick\n",
    "            viewer.add_unitcell()\n",
    "            viewer.center()"
   ]
  },
  {
   "cell_type": "markdown",
   "metadata": {},
   "source": [
    "## Step 1: Select structures"
   ]
  },
  {
   "cell_type": "code",
   "execution_count": null,
   "metadata": {},
   "outputs": [],
   "source": [
    "struct_browser = StructureBrowser()\n",
    "struct_browser.results.observe(on_struct_change, names='value')\n",
    "viewer = nglview.NGLWidget()\n",
    "info_out = ipw.Output()\n",
    "\n",
    "display(struct_browser)\n",
    "display(ipw.VBox((viewer, info_out)))"
   ]
  },
  {
   "cell_type": "markdown",
   "metadata": {},
   "source": [
    "## Step 2: Submit energy calculations"
   ]
  },
  {
   "cell_type": "code",
   "execution_count": null,
   "metadata": {},
   "outputs": [],
   "source": [
    "# query AiiDA database for Computers\n",
    "qb = QueryBuilder()\n",
    "qb.append(Computer, filters={'enabled': True}, project='name', tag='computer')\n",
    "qb.append(Code, project='*', has_computer='computer', filters={'attributes.input_plugin': 'cp2k'})\n",
    "\n",
    "all_computers = OrderedDict()\n",
    "all_computers['Please select a computer'] = False\n",
    "for match in qb.all():\n",
    "    label = match[0]\n",
    "    code = match[1]\n",
    "    all_computers[label] = code\n",
    "\n",
    "style = {'description_width': '120px'}\n",
    "layout = {'width': '70%'}\n",
    "drop_computer = ipw.Dropdown(description=\"Computer\", options=all_computers,\n",
    "                            style=style, layout=layout)\n",
    "\n",
    "text_wavefunction = ipw.Text(placeholder='../asd.wfn',\n",
    "                        description='Wavefunction',\n",
    "                        style=style, layout=layout)\n",
    "\n",
    "int_machines = ipw.IntText(value=40,\n",
    "                           description='# Nodes',\n",
    "                           style=style, layout=layout)\n",
    "\n",
    "display(ipw.VBox([drop_computer, int_machines, text_wavefunction]))"
   ]
  },
  {
   "cell_type": "code",
   "execution_count": null,
   "metadata": {},
   "outputs": [],
   "source": [
    "def on_submit(b):\n",
    "    with submit_out:\n",
    "        clear_output()\n",
    "        if not struct_browser.results.value:\n",
    "            print(\"Please select a structure.\")\n",
    "            return\n",
    "        if not drop_computer.value:\n",
    "            print(\"Please select a computer.\")\n",
    "            return\n",
    "\n",
    "        cp2k_code = drop_computer.value\n",
    "        struct = struct_browser.results.value\n",
    "        wavefunction = Str(text_wavefunction.value)\n",
    "        num_machines = Int(int_machines.value)\n",
    "        gasphase = Bool(toggle_gasphase.value)\n",
    "\n",
    "        outputs = submit(EnergyWorkChain,\n",
    "                         cp2k_code=cp2k_code,\n",
    "                         structure=struct,\n",
    "                         wavefunction=wavefunction,\n",
    "                         num_machines=num_machines,\n",
    "                         gasphase=gasphase)\n",
    "        print(outputs)\n",
    "\n",
    "\n",
    "\n",
    "btn_submit = ipw.Button(description=\"Submit\",\n",
    "                        style=style, layout=layout)\n",
    "btn_submit.on_click(on_submit)\n",
    "submit_out = ipw.Output()\n",
    "display(btn_submit, submit_out)"
   ]
  },
  {
   "cell_type": "code",
   "execution_count": null,
   "metadata": {},
   "outputs": [],
   "source": [
    "text_lower_n = ipw.IntText(description='Lower pk',\n",
    "                           style=style, layout=layout)\n",
    "\n",
    "text_upper_n = ipw.IntText(description='Upper pk',\n",
    "                           style=style, layout=layout)\n",
    "\n",
    "text_list = ipw.Text(description='All pks',\n",
    "                     style=style, layout=layout)\n",
    "\n",
    "toggle_gasphase = ipw.ToggleButton(description='Gas phase',\n",
    "                                   style=style, layout=layout)\n",
    "\n",
    "display(ipw.VBox([text_lower_n, text_upper_n, text_list, toggle_gasphase]))"
   ]
  },
  {
   "cell_type": "code",
   "execution_count": null,
   "metadata": {},
   "outputs": [],
   "source": [
    "def on_submit_all(b):\n",
    "    with submit_out_all:\n",
    "        clear_output()\n",
    "        if text_lower_n.value > 0:\n",
    "            structures = range(text_lower_n.value, text_upper_n.value+1)\n",
    "            print 'doing the range thingy'\n",
    "        else:\n",
    "            structures = [int(x) for x in text_list.value.split(' ')]\n",
    "            print 'doing the list thingy'\n",
    "        print \"Calculating structures {} through {}.\".format(min(structures), max(structures))\n",
    "        if not drop_computer.value:\n",
    "            print(\"Please select a computer.\")\n",
    "            return\n",
    "\n",
    "        cp2k_code = drop_computer.value\n",
    "        wavefunction = Str(text_wavefunction.value)\n",
    "        num_machines = Int(int_machines.value)\n",
    "        gasphase = Bool(toggle_gasphase.value)\n",
    "        \n",
    "        outputs = []\n",
    "        \n",
    "        for s in structures:\n",
    "            struct = load_node(s)\n",
    "            output = submit(EnergyWorkChain,\n",
    "                            cp2k_code=cp2k_code,\n",
    "                            structure=struct,\n",
    "                            wavefunction=wavefunction,\n",
    "                            num_machines=num_machines,\n",
    "                            gasphase=gasphase)\n",
    "            outputs.append(output)\n",
    "            \n",
    "        print('Starting {} calculations.'.format(len(outputs)))\n",
    "        print(outputs)\n",
    "\n",
    "\n",
    "\n",
    "btn_submit_all = ipw.Button(description=\"Submit range\",\n",
    "                            style=style, layout=layout)\n",
    "btn_submit_all.on_click(on_submit_all)\n",
    "submit_out_all = ipw.Output()\n",
    "display(btn_submit_all, submit_out_all)"
   ]
  },
  {
   "cell_type": "markdown",
   "metadata": {},
   "source": [
    "## Query the db"
   ]
  },
  {
   "cell_type": "code",
   "execution_count": null,
   "metadata": {},
   "outputs": [],
   "source": [
    "qb = QueryBuilder()\n",
    "qb.append(StructureData,\n",
    "          filters = {\n",
    "              'label': {'==': 'molecular circus'}\n",
    "          },\n",
    "          project = ['id', 'description']\n",
    ")\n",
    "res = qb.all()"
   ]
  },
  {
   "cell_type": "code",
   "execution_count": null,
   "metadata": {},
   "outputs": [],
   "source": [
    "molecules = dict()\n",
    "for r in res:\n",
    "    try:\n",
    "        molecules[r[1].split(' ')[0]]['n'] += 1\n",
    "        molecules[r[1].split(' ')[0]]['pks'].append(r[0])\n",
    "    except KeyError:\n",
    "        molecules[r[1].split(' ')[0]] = {'n': 0, 'pks': [r[0],]}\n",
    "        molecules[r[1].split(' ')[0]]['n'] = 1\n",
    "        \n",
    "for name, mol in molecules.items():\n",
    "    molecules[name]['pk_min'] = min(molecules[name]['pks'])\n",
    "    molecules[name]['pk_max'] = max(molecules[name]['pks'])\n",
    "    print \"{} goes from {} to {}\".format(name, molecules[name]['pk_min'], molecules[name]['pk_max'])\n",
    "    print \"Total: {}\".format(len(molecules[name]['pks']))\n",
    "    print ' '.join([str(x) for x in molecules[name]['pks']])\n"
   ]
  },
  {
   "cell_type": "markdown",
   "metadata": {},
   "source": [
    "**ft1-hexabenzocoronene**: /scratch/snx3000/editler/aiida_run_daint-s746/fb/d2/aaa5-6eac-40da-904a-444f91a2c58b/aiida-RESTART.wfn\n",
    "\n",
    "**ft2-precursor**: /scratch/snx3000/editler/aiida_run_daint-s746/e1/b7/69a2-c143-442f-9192-144b9e3e8069/aiida-RESTART.wfn\n",
    "\n",
    "**ft4-precursorI**: /scratch/snx3000/editler/aiida_run_daint-s746/d9/38/4c6d-e402-4034-b363-b659c771303c/aiida-RESTART.wfn\n",
    "\n",
    "**ft3-precursorBr**: /scratch/snx3000/editler/aiida_run_daint-s746/4b/23/bebd-4f63-4a99-8119-860898dfa97e/aiida-RESTART.wfn\n",
    "\n",
    "**ft5-PTCDA**: /scratch/snx3000/editler/aiida_run_daint-s746/75/9c/6fa6-4c67-4f20-a437-80f9a7c11d6d/aiida-RESTART.wfn\n",
    "\n",
    "**ft6-terphenyl**: /scratch/snx3000/editler/aiida_run_daint-s746/38/69/c95a-47ad-4b5c-b161-217a72810420/aiida-RESTART.wfn\n",
    "\n",
    "**ft7-pyrrole**: /scratch/snx3000/editler/aiida_run_daint-s746/aa/23/f3a6-bbdb-4101-b1fd-367922859d44/aiida-RESTART.wfn"
   ]
  },
  {
   "cell_type": "markdown",
   "metadata": {},
   "source": [
    "# Change the descriptions"
   ]
  },
  {
   "cell_type": "code",
   "execution_count": null,
   "metadata": {},
   "outputs": [],
   "source": [
    "from aiida.orm.calculation.work import WorkCalculation\n",
    "from aiida_cp2k.calculations import Cp2kCalculation"
   ]
  },
  {
   "cell_type": "code",
   "execution_count": null,
   "metadata": {},
   "outputs": [],
   "source": [
    "qb = QueryBuilder()\n",
    "qb.append(StructureData,\n",
    "          filters = {\n",
    "              'label': {'==': 'molecular circus'}\n",
    "          },\n",
    "          tag = 'mc',\n",
    "          project = '*'\n",
    ")\n",
    "qb.append(WorkCalculation,\n",
    "          descendant_of = 'mc',\n",
    "          tag = 'mc_work',\n",
    "          project = '*'\n",
    ")\n",
    "qb.append(Cp2kCalculation,\n",
    "          output_of = 'mc_work',\n",
    "          project = '*'\n",
    ")\n",
    "r = qb.all()\n",
    "\n",
    "for res in r:\n",
    "    res[2].description = res[0].description\n",
    "    res[1].description = res[0].description"
   ]
  }
 ],
 "metadata": {
  "kernelspec": {
   "display_name": "Python 2",
   "language": "python",
   "name": "python2"
  },
  "language_info": {
   "codemirror_mode": {
    "name": "ipython",
    "version": 2
   },
   "file_extension": ".py",
   "mimetype": "text/x-python",
   "name": "python",
   "nbconvert_exporter": "python",
   "pygments_lexer": "ipython2",
   "version": "2.7.13"
  }
 },
 "nbformat": 4,
 "nbformat_minor": 2
}

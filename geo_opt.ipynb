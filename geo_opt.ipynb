{
 "cells": [
  {
   "cell_type": "code",
   "execution_count": null,
   "metadata": {},
   "outputs": [],
   "source": [
    "from aiida import load_dbenv, is_dbenv_loaded\n",
    "from aiida.backends import settings\n",
    "if not is_dbenv_loaded():\n",
    "    load_dbenv(profile=settings.AIIDADB_PROFILE)\n",
    "\n",
    "from aiida.orm import Code, Computer\n",
    "from aiida.orm.querybuilder import QueryBuilder\n",
    "from aiida.orm.data.structure import StructureData\n",
    "from aiida.orm.data.base import Int, Str\n",
    "from aiida.work.workfunction import workfunction\n",
    "from aiida.work.run import submit\n",
    "\n",
    "from ase.data import covalent_radii\n",
    "from ase.neighborlist import NeighborList\n",
    "import ase.neighborlist\n",
    "import ase.build\n",
    "\n",
    "from IPython.display import display, clear_output\n",
    "import ipywidgets as ipw\n",
    "import numpy as np\n",
    "from numpy.linalg import norm\n",
    "import scipy.stats\n",
    "import nglview\n",
    "from collections import OrderedDict\n",
    "\n",
    "from apps.surfaces.structure_browser import StructureBrowser\n",
    "from apps.mcfitting.geooptwork import FTGeoOptWorkChain"
   ]
  },
  {
   "cell_type": "markdown",
   "metadata": {},
   "source": [
    "# Geometry optimization"
   ]
  },
  {
   "cell_type": "markdown",
   "metadata": {},
   "source": [
    "## Step 1: Select molecule"
   ]
  },
  {
   "cell_type": "code",
   "execution_count": null,
   "metadata": {},
   "outputs": [],
   "source": [
    "def on_struct_change(c):\n",
    "    global orig_structure\n",
    "    orig_structure = None # disable event processing\n",
    "    s = struct_browser.results.value\n",
    "    if s:\n",
    "        orig_structure = s\n",
    "        try:\n",
    "            atoms = struct_browser.results.value.get_ase()\n",
    "\n",
    "            # Fixed Atoms\n",
    "            first_slab_atom, last_slab_atom = np.argwhere(atoms.numbers == 79)[0, 0], len(atoms)\n",
    "\n",
    "            slab = atoms.get_atomic_numbers()[first_slab_atom:last_slab_atom]\n",
    "            slab_h = np.count_nonzero(slab==1)\n",
    "            slab_three_rows = slab_h*3\n",
    "\n",
    "            first_fixed_atom = len(atoms)-1568\n",
    "            last_fixed_atom = len(atoms)\n",
    "\n",
    "            text_fixed_atoms.value = '%d..%d'%(first_fixed_atom+1, last_fixed_atom)\n",
    "\n",
    "            # Number of nodes\n",
    "            int_machines.value = int(np.round(1.+len(atoms)/45.))\n",
    "        except:\n",
    "            print 'nope'\n",
    "\n",
    "    update_view()\n",
    "    \n",
    "def update_view():\n",
    "    with info_out:\n",
    "        clear_output()\n",
    "\n",
    "        inp_descr.value = \"\"\n",
    "\n",
    "        # remove old components\n",
    "        if hasattr(viewer, \"component_0\"):\n",
    "            viewer.component_0.remove_ball_and_stick()\n",
    "            viewer.component_0.remove_unitcell()\n",
    "            cid = viewer.component_0.id\n",
    "            viewer.remove_component(cid)\n",
    "\n",
    "        if orig_structure:\n",
    "            inp_descr.value = orig_structure.description + \" on slab\"\n",
    "            # atoms = orig_structure.get_ase()\n",
    "            atoms = prepare_mol_on_slab(orig_structure.get_ase())\n",
    "\n",
    "            # add new component\n",
    "            viewer.add_component(nglview.ASEStructure(atoms)) # adds ball+stick\n",
    "            viewer.add_unitcell()\n",
    "            viewer.center()"
   ]
  },
  {
   "cell_type": "code",
   "execution_count": null,
   "metadata": {
    "scrolled": true
   },
   "outputs": [],
   "source": [
    "struct_browser = StructureBrowser()\n",
    "struct_browser.results.observe(on_struct_change, names='value')\n",
    "display(struct_browser)"
   ]
  },
  {
   "cell_type": "code",
   "execution_count": null,
   "metadata": {},
   "outputs": [],
   "source": [
    "viewer = nglview.NGLWidget()\n",
    "info_out = ipw.Output()\n",
    "display(viewer, info_out)"
   ]
  },
  {
   "cell_type": "markdown",
   "metadata": {},
   "source": [
    "## Step 2: Put it on the slab"
   ]
  },
  {
   "cell_type": "code",
   "execution_count": null,
   "metadata": {},
   "outputs": [],
   "source": [
    "# dimensions of slab \n",
    "\n",
    "def prepare_mol_on_slab(mol):\n",
    "    # determine cell size\n",
    "    auz_top = 2.3302842402729535E+01\n",
    "    dminau = 2.3\n",
    "    \n",
    "    cz = 40\n",
    "    cx = 4.1637275703388632E+01\n",
    "    cy = 4.1210215432584206E+01\n",
    "    mol.cell = (cx,cy,cz)\n",
    "    mol.pbc = (True,True,True)\n",
    "    \n",
    "    # position molecule a bit above gold slab\n",
    "    mol.center()\n",
    "    minz = np.amin(mol.positions[:,2])\n",
    "    dz = (-minz + auz_top + dminau)\n",
    "    mol.positions[:,2] += dz\n",
    "    \n",
    "    # template for gold slab\n",
    "    au_slab = ase.io.read(filename='relaxed.xyz')\n",
    "    au_slab = ase.build.sort(au_slab, tags=au_slab.get_positions()[:,2]*-1)\n",
    "    \n",
    "    mol_on_au = mol + au_slab\n",
    "    return mol_on_au\n",
    "\n",
    "@workfunction\n",
    "def prepare_mol_on_slab_wf(orig_struct):\n",
    "    orig_atoms = orig_struct.get_ase()\n",
    "    new_atoms = prepare_mol_on_slab(orig_atoms)\n",
    "    return StructureData(ase=new_atoms)"
   ]
  },
  {
   "cell_type": "code",
   "execution_count": null,
   "metadata": {},
   "outputs": [],
   "source": [
    "def on_click_store(b):\n",
    "    if not orig_structure:\n",
    "        print(\"No structure selected.\")\n",
    "        return\n",
    "\n",
    "    s = prepare_mol_on_slab_wf(orig_structure)\n",
    "    s.description = inp_descr.value\n",
    "    s.store()\n",
    "    print(\"Stored in AiiDA: \"+repr(s))\n",
    "    try:\n",
    "        print s.pk\n",
    "    except:\n",
    "        print 'no pk.'\n",
    "\n",
    "inp_descr = ipw.Text(placeholder=\"Description (optional)\")   \n",
    "btn_store = ipw.Button(description='Store in AiiDA')\n",
    "btn_store.on_click(on_click_store)\n",
    "display(ipw.HBox([btn_store, inp_descr]))"
   ]
  },
  {
   "cell_type": "markdown",
   "metadata": {},
   "source": [
    "## Step 3: Submit geometry optimization"
   ]
  },
  {
   "cell_type": "code",
   "execution_count": null,
   "metadata": {},
   "outputs": [],
   "source": [
    "# query AiiDA database for Computers\n",
    "qb = QueryBuilder()\n",
    "qb.append(Computer, filters={'enabled': True}, project='name', tag='computer')\n",
    "qb.append(Code, project='*', has_computer='computer', filters={'attributes.input_plugin': 'cp2k'})\n",
    "\n",
    "all_computers = OrderedDict()\n",
    "all_computers['Please select a computer'] = False\n",
    "for match in qb.all():\n",
    "    label = match[0]\n",
    "    code = match[1]\n",
    "    all_computers[label] = code\n",
    "\n",
    "style = {'description_width': '120px'}\n",
    "layout = {'width': '70%'}\n",
    "drop_computer = ipw.Dropdown(description=\"Computer\", options=all_computers,\n",
    "                            style=style, layout=layout)\n",
    "\n",
    "text_fixed_atoms = ipw.Text(placeholder='1..12 25 110',\n",
    "                            description='Fixed Atoms',\n",
    "                            style=style, layout=layout)\n",
    "\n",
    "int_machines = ipw.IntText(value=1,\n",
    "                           description='# Nodes',\n",
    "                           style=style, layout=layout)\n",
    "\n",
    "text_wavefunction = ipw.Text(placeholder='../asd.wfn',\n",
    "                        description='Wavefunction',\n",
    "                        style=style, layout=layout)\n",
    "\n",
    "\n",
    "display(ipw.VBox([drop_computer, int_machines, text_fixed_atoms, text_wavefunction]))"
   ]
  },
  {
   "cell_type": "code",
   "execution_count": null,
   "metadata": {},
   "outputs": [],
   "source": [
    "def on_submit(b):\n",
    "    with submit_out:\n",
    "        clear_output()\n",
    "        if not struct_browser.results.value:\n",
    "            print(\"Please select a structure.\")\n",
    "            return\n",
    "        if not drop_computer.value:\n",
    "            print(\"Please select a computer.\")\n",
    "            return\n",
    "\n",
    "        cp2k_code = drop_computer.value\n",
    "        struct = struct_browser.results.value\n",
    "        fixed_atoms = Str(text_fixed_atoms.value)\n",
    "        num_machines = Int(int_machines.value)\n",
    "        wavefunction = Str(text_wavefunction.value)\n",
    "\n",
    "        outputs = submit(FTGeoOptWorkChain,\n",
    "                         cp2k_code=cp2k_code,\n",
    "                         structure=struct,\n",
    "                         fixed_atoms=fixed_atoms,\n",
    "                         num_machines=num_machines,\n",
    "                         wavefunction=wavefunction)\n",
    "        print(outputs)\n",
    "\n",
    "\n",
    "\n",
    "btn_submit = ipw.Button(description=\"Submit\")\n",
    "btn_submit.on_click(on_submit)\n",
    "submit_out = ipw.Output()\n",
    "display(btn_submit, submit_out)"
   ]
  }
 ],
 "metadata": {
  "kernelspec": {
   "display_name": "Python 2",
   "language": "python",
   "name": "python2"
  },
  "language_info": {
   "codemirror_mode": {
    "name": "ipython",
    "version": 2
   },
   "file_extension": ".py",
   "mimetype": "text/x-python",
   "name": "python",
   "nbconvert_exporter": "python",
   "pygments_lexer": "ipython2",
   "version": "2.7.13"
  }
 },
 "nbformat": 4,
 "nbformat_minor": 2
}
